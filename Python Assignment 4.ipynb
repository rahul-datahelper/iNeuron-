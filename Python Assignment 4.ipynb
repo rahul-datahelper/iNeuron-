{
 "cells": [
  {
   "cell_type": "markdown",
   "metadata": {},
   "source": [
    "##### 1.1 Write a Python Program(with class concepts) to find the area of the triangle using the below formula. area = (s*(s-a)*(s-b)*(s-c)) ** 0.5 Function to take the length of the sides of triangle from user should be defined in the parent class and function to calculate the area should be defined in subclass"
   ]
  },
  {
   "cell_type": "code",
   "execution_count": 36,
   "metadata": {},
   "outputs": [],
   "source": [
    "    class area:  \n",
    "        def sides(self):\n",
    "            self.a= int(input(\"Enter the first side \\n\"))\n",
    "            self.b= int(input(\"Enter the second side \\n\"))\n",
    "            self.c= int(input(\"Enter the third side \\n\"))\n",
    "            if (self.a +self.b >self.c) & (self.b +self.c >self.a) & (self.a +self.c >self.b):\n",
    "\n",
    "                return self.a, self.b, self.c\n",
    "        \n",
    "    class calc(area):\n",
    "            def cal(self):\n",
    "                self.a, self.b, self.c = super(calc, self).sides()\n",
    "                s = (self.a +self.b+self.c)/2\n",
    "                ar= math.sqrt(s*(s-self.a)* (s- self.b)* (s-self.c) ) \n",
    "                print(\"The area is\", ar)\n"
   ]
  },
  {
   "cell_type": "code",
   "execution_count": 41,
   "metadata": {},
   "outputs": [],
   "source": [
    "obj=calc()"
   ]
  },
  {
   "cell_type": "code",
   "execution_count": 43,
   "metadata": {},
   "outputs": [
    {
     "name": "stdout",
     "output_type": "stream",
     "text": [
      "Enter the first side \n",
      "7\n",
      "Enter the second side \n",
      "5\n",
      "Enter the third side \n",
      "10\n",
      "The area is 16.24807680927192\n"
     ]
    }
   ],
   "source": [
    "try:\n",
    "    obj.cal()\n",
    "\n",
    "except TypeError as e:\n",
    "    print(\"sides are wrong\")"
   ]
  },
  {
   "cell_type": "markdown",
   "metadata": {},
   "source": [
    "#### 1.2 Write a function filter_long_words() that takes a list of words and an integer n and returns the list of words that are longer than n."
   ]
  },
  {
   "cell_type": "code",
   "execution_count": 48,
   "metadata": {},
   "outputs": [
    {
     "name": "stdout",
     "output_type": "stream",
     "text": [
      "['The', 'future']\n"
     ]
    }
   ],
   "source": [
    "def filter_long_words(n, str):\n",
    "    l=[]\n",
    "    text= str.split(' ')\n",
    "    for i in text:\n",
    "        if len(i) > n:\n",
    "            l.append(i)\n",
    "    \n",
    "    return l\n",
    "\n",
    "print(filter_long_words(2,'The future is AI'))"
   ]
  },
  {
   "cell_type": "markdown",
   "metadata": {},
   "source": [
    "##### 2.1 Write a Python program using function concept that maps list of words into a list of integers representing the lengths of the corresponding words. Hint: If a list [ ab,cde,erty] is passed on to the python function output should come as [2,3,4] Here 2,3 and 4 are the lengths of the words in the list"
   ]
  },
  {
   "cell_type": "code",
   "execution_count": 50,
   "metadata": {},
   "outputs": [
    {
     "name": "stdout",
     "output_type": "stream",
     "text": [
      "[4, 2, 1, 4, 2, 10]\n"
     ]
    }
   ],
   "source": [
    "def func(l):\n",
    "    li=[]\n",
    "    for i in l:\n",
    "        li.append(len(i))\n",
    "        \n",
    "    return li\n",
    "\n",
    "print(func(['This','is','a','kind','of','encryption']))"
   ]
  },
  {
   "cell_type": "markdown",
   "metadata": {},
   "source": [
    "###### 2.2 Write a Python function which takes a character (i.e. a string of length 1) and returns True if it is a vowel, False otherwise."
   ]
  },
  {
   "cell_type": "code",
   "execution_count": 85,
   "metadata": {},
   "outputs": [
    {
     "name": "stdout",
     "output_type": "stream",
     "text": [
      "True\n",
      "False\n"
     ]
    }
   ],
   "source": [
    "def is_vowel(char):\n",
    "    l=('a','e','i','o','u','A','E','I','O','U')\n",
    "    if char not in l:\n",
    "        return False\n",
    "    return True\n",
    "        \n",
    "\n",
    "print(is_vowel('a'))\n",
    "print(is_vowel('b'))"
   ]
  }
 ],
 "metadata": {
  "kernelspec": {
   "display_name": "Python 3",
   "language": "python",
   "name": "python3"
  },
  "language_info": {
   "codemirror_mode": {
    "name": "ipython",
    "version": 3
   },
   "file_extension": ".py",
   "mimetype": "text/x-python",
   "name": "python",
   "nbconvert_exporter": "python",
   "pygments_lexer": "ipython3",
   "version": "3.7.3"
  }
 },
 "nbformat": 4,
 "nbformat_minor": 2
}
