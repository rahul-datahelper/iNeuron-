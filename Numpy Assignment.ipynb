{
 "cells": [
  {
   "cell_type": "markdown",
   "metadata": {},
   "source": [
    "##### Write a function so that the columns of the output matrix are powers of the input vector. The order of the powers is determined by the increasing boolean argument. Specifically, when increasing is False, the i-th output column is the input vector raised element-wise to the power of N - i - 1.  HINT: Such a matrix with a geometric progression in each row is named for Alexandre- Theophile Vandermonde."
   ]
  },
  {
   "cell_type": "code",
   "execution_count": 2,
   "metadata": {},
   "outputs": [],
   "source": [
    "import numpy as np"
   ]
  },
  {
   "cell_type": "code",
   "execution_count": 8,
   "metadata": {},
   "outputs": [
    {
     "data": {
      "text/plain": [
       "array([[   1,    1,    1,    1,    1],\n",
       "       [  16,    8,    4,    2,    1],\n",
       "       [  81,   27,    9,    3,    1],\n",
       "       [ 256,   64,   16,    4,    1],\n",
       "       [ 625,  125,   25,    5,    1],\n",
       "       [1296,  216,   36,    6,    1],\n",
       "       [2401,  343,   49,    7,    1],\n",
       "       [4096,  512,   64,    8,    1]], dtype=int32)"
      ]
     },
     "execution_count": 8,
     "metadata": {},
     "output_type": "execute_result"
    }
   ],
   "source": [
    "def func(a,N):\n",
    "    n=np.column_stack([a**(N-i-1) for i in range(N)])\n",
    "    return n\n",
    "\n",
    "a=np.array([1,2,3,4,5,6,7,8])\n",
    "N=5\n",
    "func(a,N)"
   ]
  },
  {
   "cell_type": "markdown",
   "metadata": {},
   "source": [
    "#### Write a function to find moving average in an array over a window:  Test it over [3, 5, 7, 2, 8, 10, 11, 65, 72, 81, 99, 100, 150] and window of 3."
   ]
  },
  {
   "cell_type": "code",
   "execution_count": 13,
   "metadata": {},
   "outputs": [
    {
     "name": "stdout",
     "output_type": "stream",
     "text": [
      "[  5.           4.66666667   5.66666667   6.66666667   9.66666667\n",
      "  28.66666667  49.33333333  72.66666667  84.          93.33333333\n",
      " 116.33333333]\n"
     ]
    }
   ],
   "source": [
    "ar=[3, 5, 7, 2, 8, 10, 11, 65, 72, 81, 99, 100, 150]\n",
    "\n",
    "def moving_averages(values,window):\n",
    "    w=np.repeat(1,window)/window\n",
    "    res=np.convolve(values,w,'valid')\n",
    "    return res\n",
    "\n",
    "print(moving_averages(ar,3))"
   ]
  },
  {
   "cell_type": "markdown",
   "metadata": {},
   "source": [
    "In the above, the numpy repeat function creates an array of repeated 1's and the divide by window value so that further it can ve multiplied with the input array \"ar\" one by one element wise.\n",
    "After that, numpy convolve with mode =\"valid\" do the multiplication application."
   ]
  }
 ],
 "metadata": {
  "kernelspec": {
   "display_name": "Python 3",
   "language": "python",
   "name": "python3"
  },
  "language_info": {
   "codemirror_mode": {
    "name": "ipython",
    "version": 3
   },
   "file_extension": ".py",
   "mimetype": "text/x-python",
   "name": "python",
   "nbconvert_exporter": "python",
   "pygments_lexer": "ipython3",
   "version": "3.7.3"
  }
 },
 "nbformat": 4,
 "nbformat_minor": 4
}
